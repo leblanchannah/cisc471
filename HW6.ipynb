{
 "cells": [
  {
   "cell_type": "markdown",
   "metadata": {
    "collapsed": true
   },
   "source": [
    "Problem 6.20: Consider the sequences v = TACGGGTAT and w = GGACGTACG.\n",
    "Assume that the match premium is +1 and that the mismatch and indel penalties\n",
    "are -1.\n",
    "\n",
    "• Fill out the dynamic programming table for a global alignment between v\n",
    "and w. Draw arrows in the cells to store the backtrack information. What is\n",
    "the score of the optimal global alignment and what alignment does this score\n",
    "correspond to?\n",
    "\n",
    "• Fill out the dynamic programming table for a local alignment between v and\n",
    "w. \n",
    "\n",
    "Draw arrows in the cells to store the backtrack information. What is the\n",
    "score of the optimal local alignment in this case and what alignment achieves\n",
    "this score?"
   ]
  },
  {
   "cell_type": "code",
   "execution_count": 56,
   "metadata": {},
   "outputs": [
    {
     "name": "stdout",
     "output_type": "stream",
     "text": [
      "[[0, -1, -2, -3, -4, -5, -6, -7, -8, -9], [-1, -1, -2, -3, -4, -5, -4, -5, -6, -7], [-2, -2, -2, -1, -2, -3, -4, -3, -4, -5], [-3, -3, -3, -2, 0, -1, -2, -3, -2, -3], [-4, -2, -2, -3, -1, 1, 0, -1, -2, -1], [-5, -3, -1, -2, -2, 0, 0, -1, -2, -1], [-6, -4, -2, -2, -3, -1, -1, -1, -2, -1], [-7, -5, -3, -3, -3, -2, 0, -1, -2, -2], [-8, -6, -4, -2, -3, -3, -1, 1, 0, -1], [-9, -7, -5, -3, -3, -4, -2, 0, 0, -1]]\n"
     ]
    }
   ],
   "source": [
    "def longest_common_substring(v,w):\n",
    "    n = len(v)\n",
    "    m = len(w)\n",
    "    arr = [[]]\n",
    "    backtrack = [[]]\n",
    "    # top row of 0's\n",
    "    for i in range(n):\n",
    "        arr[0].append(0)\n",
    "    # first col of 0's\n",
    "    for i in range(1,m):\n",
    "        arr.append([0])\n",
    "    for i in range(1,n):\n",
    "        for j in range(1,m):\n",
    "            current = [arr[i-1][j],arr[i][j-1],arr[i-1][j-1]+1]\n",
    "            if (v[i-1]==w[j-1]):\n",
    "                arr[i].append(max(current[0],current[1],current[2]))\n",
    "            else:\n",
    "                arr[i].append(max(current[0],current[1]))\n",
    "            if (arr[i][j] == current[0]):\n",
    "                backtrack[i-1].append('U')\n",
    "            elif (arr[i][j] == current[1]):\n",
    "                backtrack[i-1].append('L')\n",
    "            else: #2\n",
    "                backtrack[i-1].append('D')\n",
    "        backtrack.append([])\n",
    "    backtrack.pop()\n",
    "\n",
    "##implement printing arrays\n",
    "\n",
    "## Global Sequence Alignment \n",
    "def global_seq_alignment(v,w):\n",
    "    n = len(v)+1\n",
    "    m = len(w)+1\n",
    "    match = 1\n",
    "    arr = [[]]\n",
    "    backtrack = [[]]\n",
    "    # top row of 0's\n",
    "    for i in range(n):\n",
    "        arr[0].append(-1*i)\n",
    "    # first col of 0's\n",
    "    for i in range(1,m):\n",
    "        arr.append([-1*i])\n",
    "    for i in range(1,n):\n",
    "        for j in range(1,m):\n",
    "            current = [arr[i-1][j]-1,arr[i][j-1]-1,arr[i-1][j-1]-1,arr[i-1][j-1]+1]\n",
    "            if (v[i-1]==w[j-1]):\n",
    "                arr[i].append(max(current[0],current[1],current[3]))\n",
    "            else:\n",
    "                arr[i].append(max(current[0],current[1],current[2]))\n",
    "    \n",
    "    print(arr)\n",
    "    \n",
    "#longest_common_substring(\"TACGGGTAT\",\"GGACGTACG\")\n",
    "global_seq_alignment(\"TACGGGTAT\",\"GGACGTACG\")\n",
    "        "
   ]
  },
  {
   "cell_type": "code",
   "execution_count": null,
   "metadata": {
    "collapsed": true
   },
   "outputs": [],
   "source": []
  }
 ],
 "metadata": {
  "kernelspec": {
   "display_name": "Python 3",
   "language": "python",
   "name": "python3"
  },
  "language_info": {
   "codemirror_mode": {
    "name": "ipython",
    "version": 3
   },
   "file_extension": ".py",
   "mimetype": "text/x-python",
   "name": "python",
   "nbconvert_exporter": "python",
   "pygments_lexer": "ipython3",
   "version": "3.6.1"
  }
 },
 "nbformat": 4,
 "nbformat_minor": 2
}
