{
 "cells": [
  {
   "cell_type": "markdown",
   "metadata": {},
   "source": [
    "<h6>GREEDY MOTIF FINDING</h6>\n",
    "A greedy heursitif for finding motifs, GREEDYMOTIFSEARCH, is described in seciton 5.5 in the text. Implement this algorithm and try it on the following data:\n",
    "\n",
    "AAATTGACGCAT\n",
    "GACGACCACGTT\n",
    "CGTCAGCGCCTG\n",
    "GCTGAGCACCGG\n",
    "AGTACGGGACAG\n",
    "\n",
    "and find the best 3-mer motif.\n",
    "\n",
    "GREEDYMOTIFSEARCH scans each DNA sequence only once. Once we have scanned a particular sequence i, we decide which of its l-mer has the best contribution to the partial alignment score Score(s,i,DNA) for the first i sequences and immediately claim that this l-mer is part of the alignment. The pseudocode is shown below.\n",
    "\n",
    "`\n",
    "GREEDYMOTIFSEARCH(DNA, t, n, l)\n",
    "    bestMotif ← (1,1,...,1) s ← (1,1,...,1)\n",
    "    for s1 ←1 to n−l+1\n",
    "        for s2 ←1 to n−l+1\n",
    "            if Score(s,2,DNA) > Score(bestMotif,2,DNA)\n",
    "                BestMotif1 ← s1\n",
    "                BestMotif2 ← s2 \n",
    "    s1 ← BestMotif1\n",
    "    s2 ← BestMotif2 \n",
    "    for i←3 to t\n",
    "        for si←1 to n−l+1\n",
    "            if Score(s,i,DNA)>Score(bestMotif,i,DNA)\n",
    "                bestMotif[i]←si \n",
    "        si←bestMotif[i]\n",
    "return bestMotif\n",
    "`\n",
    "\n",
    "\n",
    "Problem 5.18: Design an input for GREEDYMOTIFSEARCH algorithm that causes\n",
    "the algorithm to output an incorrect result. That is, create a sample that has a\n",
    "strong pattern that is missed because of the greedy nature of the algorithm. If optimalScore\n",
    "is the score of the strongest motif in the sample and greedyScore is the\n",
    "score returned by GREEDYMOTIFSEARCH, how large can optimalScore/greedyScore\n",
    "be?"
   ]
  },
  {
   "cell_type": "code",
   "execution_count": 6,
   "metadata": {},
   "outputs": [
    {
     "data": {
      "text/plain": [
       "[7, 8, 0, 9, 0]"
      ]
     },
     "execution_count": 6,
     "metadata": {},
     "output_type": "execute_result"
    }
   ],
   "source": [
    "#consensus score gets max in each column\n",
    "def score(s,i,DNA,l):\n",
    "    maxSoFar = 0\n",
    "    for k in range(l):\n",
    "        A, T, G, C = 0, 0, 0, 0\n",
    "        for r in range(i+1):\n",
    "            letter = DNA[r][s[r]+k]\n",
    "            if letter == 'A':\n",
    "                A += 1\n",
    "            elif letter == 'G':\n",
    "                G += 1\n",
    "            elif letter == 'C':\n",
    "                C += 1\n",
    "            else:\n",
    "                T += 1\n",
    "        maxSoFar += max([A,C,T,G])\n",
    "    return maxSoFar\n",
    "\n",
    "def GREEDYMOTIFSEARCH(DNA,t,n,l):\n",
    "    bestMotif = [0]*t\n",
    "    s = [0]*t\n",
    "    for s1 in range(0,n-l+1):\n",
    "        for s2 in range(1,n-l+1):\n",
    "            s[0] = s1\n",
    "            s[1] = s2\n",
    "            if score(s,2,DNA,l) > score(bestMotif,2,DNA,l):\n",
    "                bestMotif[0] = s1\n",
    "                bestMotif[1] = s2\n",
    "    s[0] = bestMotif[0]\n",
    "    s[1] = bestMotif[1]\n",
    "    for i in range(2,t):\n",
    "        for si in range(0,n-l+1):\n",
    "            s[i] = si\n",
    "            if score(s,i,DNA,l)>score(bestMotif,i,DNA,l):\n",
    "                bestMotif[i] = si\n",
    "        s[i] = bestMotif[i]\n",
    "    return bestMotif\n",
    "    \n",
    "    \n",
    "GREEDYMOTIFSEARCH([\"AAATTGACGCAT\",\"GACGACCACGTT\",\"CGTCAGCGCCTG\",\"GCTGAGCACCGG\",\"AGTACGGGACAG\"],5,12,3)"
   ]
  },
  {
   "cell_type": "markdown",
   "metadata": {
    "collapsed": true
   },
   "source": [
    "\n",
    "BPREVSORT(π)\n",
    "\n",
    "    while b(π) > 0\n",
    "        if π has a decreasing strip\n",
    "            Choose the decreasing strip containing the smallest element k.\n",
    "            Since element k − 1 must be in an increasing strip, reverse \n",
    "            the substring that results in k and k − 1 becoming adjacent.\n",
    "        else (no decreasing strip)\n",
    "            Choose any increasing strip (that is not a sentinel) and\n",
    "            reverse it to create a decreasing strip.\n",
    "        output π\n",
    "    return"
   ]
  },
  {
   "cell_type": "code",
   "execution_count": null,
   "metadata": {
    "collapsed": true
   },
   "outputs": [],
   "source": []
  }
 ],
 "metadata": {
  "kernelspec": {
   "display_name": "Python 3",
   "language": "python",
   "name": "python3"
  },
  "language_info": {
   "codemirror_mode": {
    "name": "ipython",
    "version": 3
   },
   "file_extension": ".py",
   "mimetype": "text/x-python",
   "name": "python",
   "nbconvert_exporter": "python",
   "pygments_lexer": "ipython3",
   "version": "3.6.1"
  }
 },
 "nbformat": 4,
 "nbformat_minor": 2
}
