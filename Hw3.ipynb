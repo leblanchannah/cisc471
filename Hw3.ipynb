{
 "cells": [
  {
   "cell_type": "markdown",
   "metadata": {},
   "source": [
    "Problem 4.14: Implement and algorithm that counts the number of occurrences of\n",
    "each l-mer in a string of length n. Run it over a bacterial genome and construct the\n",
    "distribution of l-mer frequencies. \n",
    "Compare this distribution to that of a random string of the same length as the bacterial genome.\n",
    "\n",
    "genome for bacteria Chlamydia here:\n",
    "ftp://ftp.sanger.ac.uk/pub/project/pathogens/Chlamydia/Ct_L2_UCH-1_454.dna\n",
    "\n",
    "There are n= 1038869 symbols in the sequence. Find frequency counts for up\n",
    "to 9, and print stats of any frequencies that appear out of the ordinary. Use your\n",
    "own creativity to decide what ”out of the ordinary” means.\n",
    "To do this you would need to be able to determine the expected frequency of an\n",
    "l-mer in string of length n.\n",
    "\n",
    "Once you have stats for the Chlamydia bacteria repeat the experiment for a\n",
    "random ’cgta’ string of length n.\n",
    "\n",
    "BONUS: Can you explain the biological relevance of l-mers that appear much\n",
    "more frequently in the bacterial genome than expected?"
   ]
  },
  {
   "cell_type": "code",
   "execution_count": 6,
   "metadata": {},
   "outputs": [],
   "source": [
    "def lmer_distribution(genome,n):\n",
    "    # string of length n\n",
    "    # need to find frequency of each l-mer in n\n",
    "    l_mers = {}\n",
    "    for i in range(9): #changes size of l-mer\n",
    "      ## lmer is of length i\n",
    "        for j in range(n): #generates l-mer by sliding i-size window along string\n",
    "            # as you move lmer of length i along the genome\n",
    "            current_lmer = genome[j:j+i]\n",
    "            if current_lmer not in l_mers:\n",
    "                l_mers[current_lmer] = 0\n",
    "                #count occurences of lmer in genome\n",
    "                for k in range(n-len(current_lmer)):\n",
    "                    if genome[k:k+len(current_lmer)] == current_lmer:\n",
    "                        l_mers[current_lmer] += 1\n",
    "             \n",
    "        \n",
    "\n",
    "file = open('CT_L2_UCH-1_454.dna', 'r')\n",
    "genome = \"\";\n",
    "file.readline()\n",
    "n = 0\n",
    "for line in file: \n",
    "    n += len(line)\n",
    "    genome += line\n",
    "\n",
    "#print(genome)\n",
    "#lmer_distribution(genome,n)\n",
    "#print(n)\n",
    "\n",
    "\n",
    "lmer_distribution(\"ababacgta\", len(\"ababachgta\"))\n",
    "\n",
    "\n",
    "## lmers out of oridnary\n",
    "## for l = 9, random data - expected ~3.9, max kmer appeared 17 times\n"
   ]
  },
  {
   "cell_type": "markdown",
   "metadata": {
    "collapsed": true
   },
   "source": [
    "<h5>Problem 4.11:</h5>\n",
    "\n",
    "The search trees in the text are complete k-ary trees: each vertex\n",
    "that is not a leaf has exactly k children. \n",
    "\n",
    "It is also balanced: the number of edges in\n",
    "the path from the root to any leaf is the same (this is sometimes referred to as the\n",
    "height of the tree). \n",
    "\n",
    "Find a closed-form expression for the total number of vertices\n",
    "in a complete and balanced k-ary tree of height L. (Note: In mathematics, an\n",
    "expression is said to be a closed-form expression if it can be expressed analytically\n",
    "in terms of a finite number of elementary operations.)\n",
    "\n",
    "\n",
    "\n",
    "assume \n",
    "L != 1\n",
    "K != 1\n",
    "\n",
    "binary tree \n",
    "v = 1*2*2^2...2^n\n",
    "v = 2^(l+1) -1 / (2-1) = 2^(l+1) -1\n",
    "\n",
    "knary tree \n",
    " v = k^0 + k^1 ... k^n\n",
    " v = k^(l-1) - 1/ k-1\n",
    " \n",
    " do induction on l\n",
    " all trees are complete\n",
    " \n",
    " <h6>BC:</h6>\n",
    " l = 0\n",
    " proving knary tree has v nodes, using induction on l(height of tree)\n",
    " V = k^(1) - 1 / k - 1\n",
    " v = 1\n",
    "\n",
    "<h6>IH:</h6>\n",
    " \n",
    "(sum 0:l)k^i = k^(i+1) -1 / k-1 \n",
    "\n",
    "<h6>IS:</h6> \n",
    "\n",
    "(sum i = 0:l+1) k^i = (sum i=0:l) k^i +  k^(i+1)\n",
    "       = k^(i+1) -1 + (k-1)k^(i+1) / k - 1\n",
    "       = k^(l+2) -1 / k - 1\n",
    " \n",
    " \n",
    "    "
   ]
  },
  {
   "cell_type": "markdown",
   "metadata": {},
   "source": [
    "<h5>Problem 4.13:</h5>\n",
    "\n",
    "Given a long text string T and one shorter pattern string s, and an\n",
    "integer k, find the first occurrence in T of a string (if any) s\n",
    "0\n",
    "such that dH(s, s0\n",
    ") ≤ k.\n",
    "What is the complexity of your algorithm?\n",
    "\n",
    "T = long DNA string\n",
    "s = short string\n",
    "\n",
    "want all occurences of s' in T that are different than k by...\n",
    "\n",
    "\n",
    "for i in range(len(T)-len(S)):\n",
    "    if dH(s, T[i:i+len(s)]) <=k: ## hamming distance calculation\n",
    "        return i\n",
    "return -1\n",
    "\n",
    "O(|T|*|S|)"
   ]
  },
  {
   "cell_type": "code",
   "execution_count": 3,
   "metadata": {},
   "outputs": [
    {
     "name": "stdout",
     "output_type": "stream",
     "text": [
      "TC\n",
      "None\n",
      "AGC\n"
     ]
    }
   ],
   "source": [
    "#number of differences between two string\n",
    "def hammingDistance(s1,s2):\n",
    "    counter = 0\n",
    "    for i in range(len(s1)):\n",
    "        if s1[i] != s2[i]:\n",
    "            counter += 1\n",
    "    return counter\n",
    "    \n",
    "    \n",
    "def fourpointthree(T,s,k):\n",
    "    long_string = len(T)\n",
    "    short_string = len(s)\n",
    "    for i in range(long_string-short_string):\n",
    "        if hammingDistance(s,T[i:i+short_string]) <= k:\n",
    "            return T[i:i+short_string]\n",
    "\n",
    "print(fourpointthree(\"AATCGAT\",\"CC\",1))\n",
    "print(fourpointthree(\"AATCGTTTTTAAAAT\",\"CCC\",1))\n",
    "print(fourpointthree(\"AATGTGGGGGATGAGATGAGCCCGAT\",\"CCC\",2))"
   ]
  },
  {
   "cell_type": "code",
   "execution_count": null,
   "metadata": {
    "collapsed": true
   },
   "outputs": [],
   "source": []
  }
 ],
 "metadata": {
  "kernelspec": {
   "display_name": "Python 3",
   "language": "python",
   "name": "python3"
  },
  "language_info": {
   "codemirror_mode": {
    "name": "ipython",
    "version": 3
   },
   "file_extension": ".py",
   "mimetype": "text/x-python",
   "name": "python",
   "nbconvert_exporter": "python",
   "pygments_lexer": "ipython3",
   "version": "3.6.1"
  }
 },
 "nbformat": 4,
 "nbformat_minor": 2
}
