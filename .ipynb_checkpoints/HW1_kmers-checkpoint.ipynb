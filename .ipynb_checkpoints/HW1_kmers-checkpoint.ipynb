{
 "cells": [
  {
   "cell_type": "markdown",
   "metadata": {},
   "source": [
    "<h5>Frequent Words Problem:</h5> A k-mer is defined as a string of length k. We define Count(Text, Pattern) as the number of tims that a k-mer Pattern appears as a substring of Text."
   ]
  },
  {
   "cell_type": "code",
   "execution_count": 49,
   "metadata": {},
   "outputs": [],
   "source": [
    "# returns kmers with highest values as string\n",
    "# input - dictionary\n",
    "def freq_in_dict(freq_words):\n",
    "    max_count = max(freq_words.values())\n",
    "    ans = \"\"\n",
    "    for kmer in freq_words:\n",
    "        if freq_words[kmer] == max_count:\n",
    "            ans += \" \" + kmer\n",
    "    return ans\n",
    "    \n",
    "    \n",
    "def count(text, pattern):\n",
    "    counter = 0\n",
    "    match = len(pattern)\n",
    "    if len(text) < len(pattern):\n",
    "        return counter\n",
    "    for i in range(len(text)):\n",
    "        if text[i:i+match] == pattern:\n",
    "            counter += 1\n",
    "    return counter\n",
    "\n",
    "def kmers_count(pattern, k):\n",
    "    #slide window k size\n",
    "    # add to dictionary\n",
    "    # count kmer appearances\n",
    "    if len(pattern) < k:\n",
    "        return \"\"\n",
    "    all_kmers = {}\n",
    "    for i in range(0,len(pattern)-k+1):\n",
    "        kmer = pattern[i:i+k]\n",
    "        all_kmers[kmer] = count(pattern,kmer)\n",
    "    #get max value of dictionary\n",
    "    return freq_in_dict(all_kmers)\n",
    "    \n",
    "def countd(text, pattern, d):\n",
    "    freq_words = {}\n",
    "    len_text = len(text)\n",
    "    if len_text < pattern:\n",
    "        return \"\"\n",
    "    for i in range(0,len_text-pattern+1):\n",
    "        counter = 0\n",
    "        kmer = text[i:i+pattern]\n",
    "        freq_words[kmer] = 0\n",
    "        for j in range(0,len_text-pattern+1):\n",
    "            current_mismatches = 0\n",
    "            for k in range(pattern):\n",
    "                if kmer[k] != text[j+k]:\n",
    "                    current_mismatches += 1\n",
    "            if current_mismatches <= d:\n",
    "                counter += 1\n",
    "        freq_words[kmer] = counter\n",
    "    return freq_in_dict(freq_words)\n",
    "            "
   ]
  },
  {
   "cell_type": "markdown",
   "metadata": {},
   "source": [
    "<h5>Problem 2.4:</h5> You are given an unsorted list of n-1 distinct integers from the range\n",
    "1 to n. Write a linear time algorithm to find the missing integer."
   ]
  },
  {
   "cell_type": "code",
   "execution_count": 50,
   "metadata": {
    "collapsed": true
   },
   "outputs": [],
   "source": [
    "def missing_int(lst):\n",
    "    i = 0\n",
    "    sum_without_int = 0\n",
    "    sum_with_int = 0\n",
    "    for val in lst:\n",
    "        i += 1\n",
    "        sum_without_int += val\n",
    "        sum_with_int += i\n",
    "    sum_with_int += (i+1)\n",
    "    return sum_with_int - sum_without_int\n",
    "        "
   ]
  },
  {
   "cell_type": "code",
   "execution_count": 52,
   "metadata": {},
   "outputs": [
    {
     "name": "stdout",
     "output_type": "stream",
     "text": [
      " GCAT CATG\n",
      "\n",
      " \n",
      " G\n",
      " AAAAA\n",
      " ggcggc gcgtac\n",
      " ACTAT CTATG CTATC\n",
      " gttca\n",
      "4\n",
      "7\n"
     ]
    }
   ],
   "source": [
    "def main():\n",
    "    print(kmers_count(\"ACGTTGCATGTCGCATGATGCATGAGAGCT\",4))\n",
    "    print(kmers_count(\"\",4))\n",
    "    print(kmers_count(\"AHHAHAHHA\",0))\n",
    "    print(kmers_count(\"ACGTTGCATGTCACTTACGGGGGGTTTTAGCGAGCGATGTCGATCGATCGATCGATAGCATGATGCATGAGAGCT\",1))\n",
    "    print(kmers_count(\"AAAAAAAAAA\",5))\n",
    "    #1000 bases\n",
    "    print(kmers_count('''cacgtcgctgagaatttggcgtgagacccacatgacgacacgaacatgagtcattatttc\n",
    "tccagggggctcaaattagctccacccttagagctgaccccttggagacctaatcaacac\n",
    "ttgtggcggcgaaggtgagtattgttgaaataacctatcagtacgtctaccctacctatg\n",
    "cgattcaaggctttcgctcaacatagaacaaacttcaatctgggattgttgccgtggtca\n",
    "aggacgcggcggccattcaaagaaattacacaggcggcgctcaggtagtccagtgtgtgt\n",
    "aacatctgggaaacatgttagcccacacttagcaacttgaaaataggagtgatttgtcat\n",
    "tacagctgggagtagtgcgtacgtcctagatctcctaatatgaccacgcgtgttgacgcc\n",
    "tacctgggttcgcgtacagcattatttcggtaatagaaaatcatggttttaaccggaggt\n",
    "gacgggctcacagaagtcaggaattttggcgtacaatcggatagctaatccacaatagtt\n",
    "cctctattaaccgcgatcgttctaagctgcatgtcccccctgacgacaacggtcatagat\n",
    "tatgtcccggcggctttcagaggtcactcttggcccctcgatcggctatgtacctgaaat\n",
    "acgggactacgaggggataatctacgttcacagttccgggtttgtttacaggtagactct\n",
    "gttgataactatgacgcccctctactcaacgtttatgaggatgagacagtttgctcactt\n",
    "ggtggcgctaacccgagcatgcgatagcgtaccttctagatcgcaggtttaaaagcggtg\n",
    "atgtagttctttgacgtgtaacgcactcgcgctgcttcgggttttgtgtcaatacactgt\n",
    "gaggagtgtcattttttttgaggtggttgtaagttccgacgtgagtaagctaccgaccga\n",
    "tcagttacctgcgcggagaacaacggtgccatatggaata''',6))\n",
    "    \n",
    "    print(countd(\"ACTATGCATACTATCGGGAACT\",5,1))\n",
    "    print(countd('''cacgtcgctgagaatttggcgtgagacccacatgacgacacgaacatgagtcattatttc\n",
    "tccagggggctcaaattagctccacccttagagctgaccccttggagacctaatcaacac\n",
    "ttgtggcggcgaaggtgagtattgttgaaataacctatcagtacgtctaccctacctatg\n",
    "cgattcaaggctttcgctcaacatagaacaaacttcaatctgggattgttgccgtggtca\n",
    "aggacgcggcggccattcaaagaaattacacaggcggcgctcaggtagtccagtgtgtgt\n",
    "aacatctgggaaacatgttagcccacacttagcaacttgaaaataggagtgatttgtcat\n",
    "tacagctgggagtagtgcgtacgtcctagatctcctaatatgaccacgcgtgttgacgcc\n",
    "tacctgggttcgcgtacagcattatttcggtaatagaaaatcatggttttaaccggaggt\n",
    "gacgggctcacagaagtcaggaattttggcgtacaatcggatagctaatccacaatagtt\n",
    "cctctattaaccgcgatcgttctaagctgcatgtcccccctgacgacaacggtcatagat\n",
    "tatgtcccggcggctttcagaggtcactcttggcccctcgatcggctatgtacctgaaat\n",
    "acgggactacgaggggataatctacgttcacagttccgggtttgtttacaggtagactct\n",
    "gttgataactatgacgcccctctactcaacgtttatgaggatgagacagtttgctcactt\n",
    "ggtggcgctaacccgagcatgcgatagcgtaccttctagatcgcaggtttaaaagcggtg\n",
    "atgtagttctttgacgtgtaacgcactcgcgctgcttcgggttttgtgtcaatacactgt\n",
    "gaggagtgtcattttttttgaggtggttgtaagttccgacgtgagtaagctaccgaccga\n",
    "tcagttacctgcgcggagaacaacggtgccatatggaata''',5,1))\n",
    "    \n",
    "    print(missing_int([1,2,3,5,6]))\n",
    "    print(missing_int([1,2,3,4,5,6,8,9,10,11,12]))\n",
    "\n",
    "main()"
   ]
  },
  {
   "cell_type": "code",
   "execution_count": null,
   "metadata": {
    "collapsed": true
   },
   "outputs": [],
   "source": []
  }
 ],
 "metadata": {
  "kernelspec": {
   "display_name": "Python 3",
   "language": "python",
   "name": "python3"
  },
  "language_info": {
   "codemirror_mode": {
    "name": "ipython",
    "version": 3
   },
   "file_extension": ".py",
   "mimetype": "text/x-python",
   "name": "python",
   "nbconvert_exporter": "python",
   "pygments_lexer": "ipython3",
   "version": "3.6.1"
  }
 },
 "nbformat": 4,
 "nbformat_minor": 2
}
