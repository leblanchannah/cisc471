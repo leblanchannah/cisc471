{
 "cells": [
  {
   "cell_type": "markdown",
   "metadata": {},
   "source": [
    "Problem 6.4: Modify DPCHANGE to return not only the smallest number of coins\n",
    "but also the correct combination of coins.\n",
    "\n",
    "Problem 6.6: Find the number of different paths from source (n, m) to sink (0, 0) in\n",
    "an n×m rectangular grid. These paths are described in section 6.3 The Manhattan\n",
    "Tourist Problem. A valid path can only go up or left (no diagonal moves). Write a\n",
    "dynamic programming algorithm to determine this quantity. You can also obtain\n",
    "the result by thinking of a valid path as a string of length n+m using n ‘U’s and m\n",
    "‘L’s. BONUS: Now also allow diagonal moves (up and left). Update your program\n",
    "to handle this additional move. The combinatorial solution now must deal with\n",
    "this additional move in a non-trivial way"
   ]
  },
  {
   "cell_type": "code",
   "execution_count": 30,
   "metadata": {},
   "outputs": [
    {
     "name": "stdout",
     "output_type": "stream",
     "text": [
      "[['', '', '', ''], ['', '', '', ''], ['', '', '', ''], ['', '', '', '']]\n"
     ]
    }
   ],
   "source": [
    "\n",
    "#number of different paths from (n,m) to (0,0)\n",
    "# int,int,(int,int),(int,int)\n",
    "def manhattan_tourist_paths(cols,rows):\n",
    "    horizontal = []\n",
    "    for row in range(rows):\n",
    "       ## p\n",
    "        horizontal.append([])\n",
    "        for col in range(cols):\n",
    "            horizontal[row].append(\"\")\n",
    "            if col == 0 or row == 0:\n",
    "                horizontal[row].append(1)\n",
    "            else:\n",
    "                horizontal[row].append(0)\n",
    "        \n",
    "    print(horizontal)\n",
    "            \n",
    "            \n",
    "\n",
    "\n",
    "\n",
    "manhattan_tourist_paths(4,4)\n",
    "    \n"
   ]
  },
  {
   "cell_type": "code",
   "execution_count": null,
   "metadata": {
    "collapsed": true
   },
   "outputs": [],
   "source": []
  },
  {
   "cell_type": "code",
   "execution_count": null,
   "metadata": {
    "collapsed": true
   },
   "outputs": [],
   "source": []
  }
 ],
 "metadata": {
  "kernelspec": {
   "display_name": "Python 3",
   "language": "python",
   "name": "python3"
  },
  "language_info": {
   "codemirror_mode": {
    "name": "ipython",
    "version": 3
   },
   "file_extension": ".py",
   "mimetype": "text/x-python",
   "name": "python",
   "nbconvert_exporter": "python",
   "pygments_lexer": "ipython3",
   "version": "3.6.1"
  }
 },
 "nbformat": 4,
 "nbformat_minor": 2
}
